{
 "cells": [
  {
   "cell_type": "code",
   "execution_count": 21,
   "metadata": {},
   "outputs": [],
   "source": [
    "import numpy\n",
    "import matplotlib.pyplot as plt\n",
    "%matplotlib inline"
   ]
  },
  {
   "cell_type": "code",
   "execution_count": 10,
   "metadata": {},
   "outputs": [],
   "source": [
    "# the below function calculates the total cost as function of the vector x of order quantities over rounds 1,...,T\n",
    "\n",
    "def totalcost(x, gamma, c, l, h):\n",
    "\n",
    "    T = len(x) # this is how many periods there are\n",
    "\n",
    "    d = numpy.random.randint(low = 0, high = 10, size = T) # demand vector that has same length as orders\n",
    "        \n",
    "    totcost = 0 # initial value for total cost that is determined in the for-loop below\n",
    "\n",
    "    for t in range(T):\n",
    "\n",
    "        Inext = 0\n",
    "        for i in range(t):\n",
    "            Inext += x[i]-d[i]\n",
    "\n",
    "        if Inext < 0: # if there is backlog\n",
    "            z = -l*Inext\n",
    "        else:         # if there is extra inventory\n",
    "            z = h*Inext\n",
    "\n",
    "        if x[t] > 0:\n",
    "            y = 1\n",
    "        else:\n",
    "            y = 0\n",
    "\n",
    "        totcost += gamma*y + c*x[t] + z #gamma = fixed order cost, c = variable unit cost\n",
    "        \n",
    "    return totcost"
   ]
  },
  {
   "cell_type": "code",
   "execution_count": 18,
   "metadata": {},
   "outputs": [],
   "source": [
    "# simulate the total cost many times to get a distribution of total costs\n",
    "def simulation(x):\n",
    "    \n",
    "    simcost = []\n",
    "\n",
    "    for j in range(1000):\n",
    "        \n",
    "        simcost.append(totalcost(x, .5, .2, .1, .1))\n",
    "        \n",
    "    return simcost\n"
   ]
  },
  {
   "cell_type": "code",
   "execution_count": 25,
   "metadata": {},
   "outputs": [
    {
     "data": {
      "text/plain": [
       "(array([ 43., 210., 283., 169., 134.,  89.,  36.,  23.,  10.,   3.]),\n",
       " array([ 7.  ,  7.47,  7.94,  8.41,  8.88,  9.35,  9.82, 10.29, 10.76,\n",
       "        11.23, 11.7 ]),\n",
       " <a list of 10 Patch objects>)"
      ]
     },
     "execution_count": 25,
     "metadata": {},
     "output_type": "execute_result"
    },
    {
     "data": {
      "image/png": "[encoded data removed]",
      "text/plain": [
       "<Figure size 432x288 with 1 Axes>"
      ]
     },
     "metadata": {
      "needs_background": "light"
     },
     "output_type": "display_data"
    }
   ],
   "source": [
    "plt.hist(simulation([1,9,9,1,1]))"
   ]
  },
  {
   "cell_type": "code",
   "execution_count": null,
   "metadata": {},
   "outputs": [],
   "source": []
  }
 ],
 "metadata": {
  "kernelspec": {
   "display_name": "Python 3",
   "language": "python",
   "name": "python3"
  },
  "language_info": {
   "codemirror_mode": {
    "name": "ipython",
    "version": 3
   },
   "file_extension": ".py",
   "mimetype": "text/x-python",
   "name": "python",
   "nbconvert_exporter": "python",
   "pygments_lexer": "ipython3",
   "version": "3.7.3"
  }
 },
 "nbformat": 4,
 "nbformat_minor": 2
}
