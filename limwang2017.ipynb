{
 "cells": [
  {
   "cell_type": "markdown",
   "metadata": {},
   "source": [
    "Lim and Wang 2017 Section 4.4: TRO policy for the single product & single period problem\n",
    "\n",
    "Assumptions: zero lead time, zero fixed ordering cost, variable ordering cost c, unit holding cost h, unit backlog cost b (b > c), stochastic demand with a reference value d_hat and support set [d_hat - z_low, d_hat + z_high], no ordering capacity constraint\n",
    "\n",
    "See Appendix Proof of Theorem 2 for the exact problem formulation"
   ]
  },
  {
   "cell_type": "code",
   "execution_count": 12,
   "metadata": {},
   "outputs": [],
   "source": [
    "# Use PuLP to solve the problem\n",
    "import pulp"
   ]
  },
  {
   "cell_type": "code",
   "execution_count": 99,
   "metadata": {},
   "outputs": [],
   "source": [
    "# Keep the results here\n",
    "x_vector = []\n",
    "gamma_vector = []\n",
    "y_vector = []\n",
    "xplusy_vector = []\n",
    "\n",
    "for i in range(-10,35):\n",
    "\n",
    "    # y is the on-hand inventory at the start of the period\n",
    "    # we vary the value of y so that we can get x and gamma as function of y\n",
    "    # in other words, compute optimal values of x and gamma for each different y\n",
    "    y = i/10 \n",
    "\n",
    "    # Create the optimisation model\n",
    "    LimWangProblem = pulp.LpProblem('Lim and Wang Section 4.4 problem', pulp.LpMaximize)\n",
    "\n",
    "    # Define the decision variables gamma, x and theta and add them to the optimisation model\n",
    "    gamma = pulp.LpVariable('gamma', 0, 1)\n",
    "    x = pulp.LpVariable('x', 0)\n",
    "    theta = pulp.LpVariable('theta')\n",
    "\n",
    "    # Set objective, which is straightforwardly the value of the decision variable gamma\n",
    "    LimWangProblem.setObjective(gamma)\n",
    "\n",
    "    # parameter values c, tau, h, b\n",
    "    c = 2\n",
    "    tau = 5.3\n",
    "    h = 1.2\n",
    "    b = 4\n",
    "\n",
    "    # Beta(2,5) distribution parameters: Lim and Wang (2017) do not specify it but we assume that this is\n",
    "    # a Beta prime distribution that has support [0,5], therefore the mean is 2/(5-1)\n",
    "    d_hat = 2/(5-1) # mean of Beta(2,5) distribution\n",
    "    z_low = d_hat - 0\n",
    "    z_high = 5 - d_hat\n",
    "\n",
    "    # Add constraint 21b to the optimisation model\n",
    "    LimWangProblem += c*x+theta <= tau\n",
    "\n",
    "    # Add constraints 21c and 21d to the optimisation model\n",
    "    LimWangProblem += h*(y-d_hat+(x+gamma*z_low)) <= theta\n",
    "    LimWangProblem += -b*(y-d_hat+(x-gamma*z_high)) <= theta\n",
    "\n",
    "    # Solve the problem\n",
    "    LimWangProblem.solve()\n",
    "\n",
    "    # Save the results into the vectors\n",
    "    x_vector.append(pulp.value(x))\n",
    "    gamma_vector.append(pulp.value(gamma))\n",
    "    y_vector.append(y)\n",
    "    xplusy_vector.append(pulp.value(x)+y)\n",
    "    "
   ]
  },
  {
   "cell_type": "markdown",
   "metadata": {},
   "source": [
    "The following line shows one instance of the optimisation proble for the value y = 3.4"
   ]
  },
  {
   "cell_type": "code",
   "execution_count": 100,
   "metadata": {},
   "outputs": [
    {
     "data": {
      "text/plain": [
       "Lim_and_Wang_Section_4.4_problem:\n",
       "MAXIMIZE\n",
       "1*gamma + 0.0\n",
       "SUBJECT TO\n",
       "_C1: theta + 2 x <= 5.3\n",
       "\n",
       "_C2: 0.6 gamma - theta + 1.2 x <= -3.48\n",
       "\n",
       "_C3: 18 gamma - theta - 4 x <= 11.6\n",
       "\n",
       "VARIABLES\n",
       "gamma <= 1 Continuous\n",
       "theta free Continuous\n",
       "x Continuous"
      ]
     },
     "execution_count": 100,
     "metadata": {},
     "output_type": "execute_result"
    }
   ],
   "source": [
    "LimWangProblem"
   ]
  },
  {
   "cell_type": "markdown",
   "metadata": {},
   "source": [
    "The following figure is the same as Figure 1 of Lim and Wang (2017)\n",
    "\n",
    "(notice that they have different vertical axes for x and gamma, therefore the figure is not exactly the same as we have the same vertical axes, this also means that gamma and x intersect at a different point)"
   ]
  },
  {
   "cell_type": "code",
   "execution_count": 101,
   "metadata": {},
   "outputs": [
    {
     "data": {
      "image/png": "[encoded data removed]",
      "text/plain": [
       "<Figure size 432x288 with 1 Axes>"
      ]
     },
     "metadata": {
      "needs_background": "light"
     },
     "output_type": "display_data"
    }
   ],
   "source": [
    "import numpy as np\n",
    "import matplotlib.pyplot as plt\n",
    "%matplotlib inline\n",
    "\n",
    "fig = plt.figure()\n",
    "ax = plt.subplot(111)\n",
    "ax.plot(y_vector, x_vector, label=\"$x_{opt}$\")\n",
    "ax.plot(y_vector, xplusy_vector, label=\"$x_{opt}+y$\")\n",
    "ax.plot(y_vector, gamma_vector, label=\"$\\gamma*$\")\n",
    "ax.legend()\n",
    "plt.show()"
   ]
  },
  {
   "cell_type": "code",
   "execution_count": null,
   "metadata": {},
   "outputs": [],
   "source": []
  }
 ],
 "metadata": {
  "kernelspec": {
   "display_name": "Python 3",
   "language": "python",
   "name": "python3"
  },
  "language_info": {
   "codemirror_mode": {
    "name": "ipython",
    "version": 3
   },
   "file_extension": ".py",
   "mimetype": "text/x-python",
   "name": "python",
   "nbconvert_exporter": "python",
   "pygments_lexer": "ipython3",
   "version": "3.7.3"
  }
 },
 "nbformat": 4,
 "nbformat_minor": 2
}
