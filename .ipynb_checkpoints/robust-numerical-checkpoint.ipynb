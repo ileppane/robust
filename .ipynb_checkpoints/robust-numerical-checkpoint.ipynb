{
 "cells": [
  {
   "cell_type": "markdown",
   "metadata": {},
   "source": [
    "<p>This template shows how to do numerical robust optimisation using PuLP, the LP solver for Python. This is adapted from <a href=\"http://blog.yhat.com/posts/decision-marking-under-uncertainty-2.html\">http://blog.yhat.com/posts/decision-marking-under-uncertainty-2.html</a></p>\n",
    "<p>The problem that is analysed here is a simple 2x2 LP problem. The objective is the sum of two decision variables.</p>"
   ]
  },
  {
   "cell_type": "code",
   "execution_count": 1,
   "metadata": {},
   "outputs": [],
   "source": [
    "import pulp"
   ]
  },
  {
   "cell_type": "markdown",
   "metadata": {},
   "source": [
    "<p>This is the coefficient matrix of the constraints</p>"
   ]
  },
  {
   "cell_type": "code",
   "execution_count": 2,
   "metadata": {},
   "outputs": [],
   "source": [
    "# coefficients nominal values\n",
    "a = [[1,2],[3,4]]"
   ]
  },
  {
   "cell_type": "markdown",
   "metadata": {},
   "source": [
    "<p>The a_hat parameters that define the limits of uncertainty in the coefficients</p>"
   ]
  },
  {
   "cell_type": "code",
   "execution_count": 3,
   "metadata": {},
   "outputs": [],
   "source": [
    "# a_hats in normalised deviations from nominal values, s.t. a_i belongs to [a_bar - a_hat, a_bar + a_hat]\n",
    "a_hat = [[1,0.5],[0.8,1.5]]"
   ]
  },
  {
   "cell_type": "markdown",
   "metadata": {},
   "source": [
    "<p>Right-hand side of constraints</p>"
   ]
  },
  {
   "cell_type": "code",
   "execution_count": 4,
   "metadata": {},
   "outputs": [],
   "source": [
    "# rhs\n",
    "b=[6,6]"
   ]
  },
  {
   "cell_type": "markdown",
   "metadata": {},
   "source": [
    "<p>Budget of uncertainty: these values can be changed to see how the solution changes, can also be wrapped around two for-loops to get a functional relationship</p>"
   ]
  },
  {
   "cell_type": "code",
   "execution_count": 10,
   "metadata": {},
   "outputs": [],
   "source": [
    "# Gamma_i represents the budget of uncertainty for each constraint row, such that it is the upper bound \n",
    "# on the sum of absolute values of normalised deviations d_ij\n",
    "Gamma = [0.5,0.5]"
   ]
  },
  {
   "cell_type": "markdown",
   "metadata": {},
   "source": [
    "<p>Here we define the model for PuLP</p>"
   ]
  },
  {
   "cell_type": "code",
   "execution_count": 11,
   "metadata": {},
   "outputs": [],
   "source": [
    "# Create maximization model\n",
    "testproblem = pulp.LpProblem('Testproblem', pulp.LpMaximize)\n",
    "\n",
    "# Decision variables\n",
    "x = {}\n",
    "for j in range(2):\n",
    "    x[j] = pulp.LpVariable('x[%s]' % j, 0)\n",
    "    \n",
    "# Define y_j >= 0, these are the bounds on x\n",
    "y = {}\n",
    "for j in range(2):\n",
    "    y[j] = pulp.LpVariable('y[%s]' % j, 0)\n",
    "    \n",
    "# Define z_i >= 0, from Bertsimas & Sim Theorem 1 equation 7\n",
    "z = {}\n",
    "for i in range(2):\n",
    "    z[i] = pulp.LpVariable('z[%s]' % i, 0)\n",
    "    \n",
    "# Define p_ij >= 0, from Bertsimas & Sim Theorem 1 equation 7\n",
    "p = {}\n",
    "for i in range(2):\n",
    "    for j in range(2):\n",
    "        p[i, j] = pulp.LpVariable('p[%s,%s]' % (i,j), 0)\n",
    "        \n",
    "# Set objective as simply x1+x2\n",
    "objective = pulp.LpVariable('Objective', 0)\n",
    "testproblem += objective == sum(x[j] for j in range(2))\n",
    "testproblem.setObjective(objective)\n",
    "\n",
    "# Set constraints\n",
    "for i in range(2):\n",
    "    testproblem += sum(a[i][j] * x[j] for j in range(2)) + Gamma[i] * z[i] + sum(p[i, j] for j in range(2)) <= b[i]\n",
    "    \n",
    "# Set deviations for uncertain parameters\n",
    "for i in range(2):\n",
    "    for j in range(2):\n",
    "        testproblem += z[i] + p[i, j] >= a_hat[i][j] * y[j]\n",
    "        \n",
    "# Relate deviations to the decision variables\n",
    "for j in range(2):\n",
    "    testproblem += x[j] <= y[j]"
   ]
  },
  {
   "cell_type": "markdown",
   "metadata": {},
   "source": [
    "<p>Here we can check how the problem looks like</p>"
   ]
  },
  {
   "cell_type": "code",
   "execution_count": 12,
   "metadata": {},
   "outputs": [
    {
     "data": {
      "text/plain": [
       "Testproblem:\n",
       "MAXIMIZE\n",
       "1*Objective + 0.0\n",
       "SUBJECT TO\n",
       "_C1: Objective - x_0_ - x_1_ = 0\n",
       "\n",
       "_C2: p_0,0_ + p_0,1_ + x_0_ + 2 x_1_ + 0.5 z_0_ <= 6\n",
       "\n",
       "_C3: p_1,0_ + p_1,1_ + 3 x_0_ + 4 x_1_ + 0.5 z_1_ <= 6\n",
       "\n",
       "_C4: p_0,0_ - y_0_ + z_0_ >= 0\n",
       "\n",
       "_C5: p_0,1_ - 0.5 y_1_ + z_0_ >= 0\n",
       "\n",
       "_C6: p_1,0_ - 0.8 y_0_ + z_1_ >= 0\n",
       "\n",
       "_C7: p_1,1_ - 1.5 y_1_ + z_1_ >= 0\n",
       "\n",
       "_C8: x_0_ - y_0_ <= 0\n",
       "\n",
       "_C9: x_1_ - y_1_ <= 0\n",
       "\n",
       "VARIABLES\n",
       "Objective Continuous\n",
       "p_0,0_ Continuous\n",
       "p_0,1_ Continuous\n",
       "p_1,0_ Continuous\n",
       "p_1,1_ Continuous\n",
       "x_0_ Continuous\n",
       "x_1_ Continuous\n",
       "y_0_ Continuous\n",
       "y_1_ Continuous\n",
       "z_0_ Continuous\n",
       "z_1_ Continuous"
      ]
     },
     "execution_count": 12,
     "metadata": {},
     "output_type": "execute_result"
    }
   ],
   "source": [
    "testproblem"
   ]
  },
  {
   "cell_type": "markdown",
   "metadata": {},
   "source": [
    "<p>This solves the model and presents the OF value and the DF values at the optimum</p>"
   ]
  },
  {
   "cell_type": "code",
   "execution_count": 13,
   "metadata": {},
   "outputs": [],
   "source": [
    "# Solve the model\n",
    "status = testproblem.solve()\n",
    "assert status == pulp.LpStatusOptimal"
   ]
  },
  {
   "cell_type": "code",
   "execution_count": 14,
   "metadata": {},
   "outputs": [
    {
     "data": {
      "text/plain": [
       "1.7647059"
      ]
     },
     "execution_count": 14,
     "metadata": {},
     "output_type": "execute_result"
    }
   ],
   "source": [
    "pulp.value(objective)"
   ]
  },
  {
   "cell_type": "code",
   "execution_count": 21,
   "metadata": {},
   "outputs": [
    {
     "data": {
      "text/plain": [
       "[1.7647059, 0.0]"
      ]
     },
     "execution_count": 21,
     "metadata": {},
     "output_type": "execute_result"
    }
   ],
   "source": [
    "[pulp.value(x[0]),pulp.value(x[1])]"
   ]
  },
  {
   "cell_type": "code",
   "execution_count": null,
   "metadata": {},
   "outputs": [],
   "source": []
  }
 ],
 "metadata": {
  "kernelspec": {
   "display_name": "Python 3",
   "language": "python",
   "name": "python3"
  },
  "language_info": {
   "codemirror_mode": {
    "name": "ipython",
    "version": 3
   },
   "file_extension": ".py",
   "mimetype": "text/x-python",
   "name": "python",
   "nbconvert_exporter": "python",
   "pygments_lexer": "ipython3",
   "version": "3.7.3"
  }
 },
 "nbformat": 4,
 "nbformat_minor": 2
}
